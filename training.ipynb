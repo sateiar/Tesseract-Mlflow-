{
 "cells": [
  {
   "cell_type": "code",
   "execution_count": 8,
   "metadata": {},
   "outputs": [
    {
     "name": "stderr",
     "output_type": "stream",
     "text": [
      "/usr/local/lib/python3.8/dist-packages/ipykernel/ipkernel.py:287: DeprecationWarning: `should_run_async` will not call `transform_cell` automatically in the future. Please pass the result to `transformed_cell` argument and any exception that happen during thetransform in `preprocessing_exc_tuple` in IPython 7.17 and above.\n",
      "  and should_run_async(code)\n"
     ]
    }
   ],
   "source": [
    "import mlflow.pyfunc\n",
    "import mlflow \n",
    "import tesserocr\n",
    "from tesserocr import PyTessBaseAPI\n",
    "import os\n",
    "import re\n",
    "import time"
   ]
  },
  {
   "cell_type": "code",
   "execution_count": 10,
   "metadata": {},
   "outputs": [],
   "source": [
    "import pandas as pd \n",
    "df_input = pd.DataFrame({\n",
    "    \"path\":[\"96486_image_19.png\"],\n",
    "    \"lang\":[\"eng\"],\n",
    "    \"psm\":[tesserocr.PSM.SINGLE_BLOCK]\n",
    "})"
   ]
  },
  {
   "cell_type": "code",
   "execution_count": 4,
   "metadata": {},
   "outputs": [],
   "source": [
    "class ocrmodel(mlflow.pyfunc.PythonModel):\n",
    "\n",
    "    def __init__(self, path):\n",
    "        self.path = path\n",
    "\n",
    "    def predict(self, context, model_input):\n",
    "        result = []\n",
    "        for index in range(len(model_input)):\n",
    "        \n",
    "            api = PyTessBaseAPI(lang=model_input['lang'][index], psm=model_input['psm'][index])\n",
    "            api.SetImageFile(model_input['path'][index])\n",
    "            txt=api.GetUTF8Text()\n",
    "            result.append(txt)\n",
    "        # final_list.append('\\n'.join(str(api.GetUTF8Text()).splitlines()))\n",
    "        \n",
    "        return txt\n",
    "#         return model_input.apply(lambda column: column + self.n)\n"
   ]
  },
  {
   "cell_type": "code",
   "execution_count": 5,
   "metadata": {},
   "outputs": [],
   "source": [
    "from mlflow.models.signature import infer_signature\n"
   ]
  },
  {
   "cell_type": "code",
   "execution_count": 6,
   "metadata": {},
   "outputs": [
    {
     "name": "stderr",
     "output_type": "stream",
     "text": [
      "2020/09/30 10:51:23 INFO mlflow.store.db.utils: Creating initial MLflow database tables...\n",
      "2020/09/30 10:51:23 INFO mlflow.store.db.utils: Updating database tables\n",
      "INFO  [alembic.runtime.migration] Context impl SQLiteImpl.\n",
      "INFO  [alembic.runtime.migration] Will assume non-transactional DDL.\n",
      "INFO  [alembic.runtime.migration] Running upgrade  -> 451aebb31d03, add metric step\n",
      "INFO  [alembic.runtime.migration] Running upgrade 451aebb31d03 -> 90e64c465722, migrate user column to tags\n",
      "INFO  [alembic.runtime.migration] Running upgrade 90e64c465722 -> 181f10493468, allow nulls for metric values\n",
      "INFO  [alembic.runtime.migration] Running upgrade 181f10493468 -> df50e92ffc5e, Add Experiment Tags Table\n",
      "INFO  [alembic.runtime.migration] Running upgrade df50e92ffc5e -> 7ac759974ad8, Update run tags with larger limit\n",
      "INFO  [alembic.runtime.migration] Running upgrade 7ac759974ad8 -> 89d4b8295536, create latest metrics table\n",
      "INFO  [89d4b8295536_create_latest_metrics_table_py] Migration complete!\n",
      "INFO  [alembic.runtime.migration] Running upgrade 89d4b8295536 -> 2b4d017a5e9b, add model registry tables to db\n",
      "INFO  [2b4d017a5e9b_add_model_registry_tables_to_db_py] Adding registered_models and model_versions tables to database.\n",
      "INFO  [2b4d017a5e9b_add_model_registry_tables_to_db_py] Migration complete!\n",
      "INFO  [alembic.runtime.migration] Running upgrade 2b4d017a5e9b -> cfd24bdc0731, Update run status constraint with killed\n",
      "INFO  [alembic.runtime.migration] Running upgrade cfd24bdc0731 -> 0a8213491aaa, drop_duplicate_killed_constraint\n",
      "WARNI [0a8213491aaa_drop_duplicate_killed_constraint_py] Failed to drop check constraint. Dropping check constraints may not be supported by your SQL database. Exception content: No support for ALTER of constraints in SQLite dialectPlease refer to the batch mode feature which allows for SQLite migrations using a copy-and-move strategy.\n",
      "INFO  [alembic.runtime.migration] Running upgrade 0a8213491aaa -> 728d730b5ebd, add registered model tags table\n",
      "INFO  [alembic.runtime.migration] Running upgrade 728d730b5ebd -> 27a6a02d2cf1, add model version tags table\n",
      "INFO  [alembic.runtime.migration] Running upgrade 27a6a02d2cf1 -> 84291f40a231, add run_link to model_version\n",
      "INFO  [alembic.runtime.migration] Context impl SQLiteImpl.\n",
      "INFO  [alembic.runtime.migration] Will assume non-transactional DDL.\n"
     ]
    },
    {
     "name": "stdout",
     "output_type": "stream",
     "text": [
      "INFO: 'ocrmodel' does not exist. Creating a new experiment\n"
     ]
    }
   ],
   "source": [
    "os.environ['MLFLOW_TRACKING_URI'] = 'sqlite:///mlflow.db'\n",
    "experiment_name = \"ocrmodel\"\n",
    "mlflow.set_experiment(experiment_name)"
   ]
  },
  {
   "cell_type": "code",
   "execution_count": 16,
   "metadata": {},
   "outputs": [
    {
     "name": "stderr",
     "output_type": "stream",
     "text": [
      "/usr/local/lib/python3.8/dist-packages/ipykernel/ipkernel.py:287: DeprecationWarning: `should_run_async` will not call `transform_cell` automatically in the future. Please pass the result to `transformed_cell` argument and any exception that happen during thetransform in `preprocessing_exc_tuple` in IPython 7.17 and above.\n",
      "  and should_run_async(code)\n",
      "INFO  [alembic.runtime.migration] Context impl SQLiteImpl.\n",
      "INFO  [alembic.runtime.migration] Will assume non-transactional DDL.\n",
      "<ipython-input-16-82fff497a71d>:11: DeprecationWarning: .. Warning:: ``mlflow.pyfunc.load_pyfunc`` is deprecated since 1.0. This method will be removed in a near future release. Use ``mlflow.pyfunc.load_model`` instead.\n",
      "  loaded_model = mlflow.pyfunc.load_pyfunc(model_path)\n",
      "INFO  [alembic.runtime.migration] Context impl SQLiteImpl.\n",
      "INFO  [alembic.runtime.migration] Will assume non-transactional DDL.\n",
      "INFO  [alembic.runtime.migration] Context impl SQLiteImpl.\n",
      "INFO  [alembic.runtime.migration] Will assume non-transactional DDL.\n",
      "INFO  [alembic.runtime.migration] Context impl SQLiteImpl.\n",
      "INFO  [alembic.runtime.migration] Will assume non-transactional DDL.\n",
      "INFO  [alembic.runtime.migration] Context impl SQLiteImpl.\n",
      "INFO  [alembic.runtime.migration] Will assume non-transactional DDL.\n",
      "INFO  [alembic.runtime.migration] Context impl SQLiteImpl.\n",
      "INFO  [alembic.runtime.migration] Will assume non-transactional DDL.\n"
     ]
    }
   ],
   "source": [
    "with mlflow.start_run(run_name=\"ocrmodel\") as run:\n",
    "   \n",
    "    tic = time.time()\n",
    "    ocr_model = ocrmodel(df_input)\n",
    "    duration_training = time.time() - tic\n",
    "#     run_id = run.info.run_uuid\n",
    "    experiment_id = run.info.experiment_id\n",
    "    tic = time.time()\n",
    "    model_path = \"ocr_model2\"\n",
    "    mlflow.pyfunc.save_model(path=model_path, python_model=ocr_model)\n",
    "    loaded_model = mlflow.pyfunc.load_pyfunc(model_path)\n",
    "    model_output=loaded_model.predict(df_input)\n",
    "    \n",
    "#     ocrmodel.predict()\n",
    "    duration_prediction = time.time() - tic\n",
    "    mlflow.log_metric(\"Load Model Time\",duration_training)\n",
    "    mlflow.log_metric(\"OCR Time\", duration_prediction)\n",
    "    mlflow.log_param(\"Language\",df_input['lang'][0])\n",
    "    mlflow.log_param(\"psm\",df_input['psm'][0])\n",
    "#     mlflow.pyfunc.log_model(loaded_model, \"model\")\n",
    "    mlflow.end_run()\n",
    "    "
   ]
  },
  {
   "cell_type": "code",
   "execution_count": 46,
   "metadata": {},
   "outputs": [],
   "source": [
    "class ocrmodel(mlflow.pyfunc.PythonModel):\n",
    "\n",
    "    def __init__(self, lang,psm):\n",
    "        self.lang = lang\n",
    "        self.psm = psm\n",
    "    def ocr (self,path): \n",
    "        print(path)\n",
    "        api = PyTessBaseAPI(lang=self.lang, psm=self.psm)\n",
    "        api.SetImageFile(path)\n",
    "        txt=api.GetUTF8Text()\n",
    "        return txt\n",
    "\n",
    "    def predict(self, context, model_input):\n",
    "\n",
    "        # final_list.append('\\n'.join(str(api.GetUTF8Text()).splitlines()))\n",
    "        return model_input['path'].apply(lambda column: self.ocr(column))\n",
    "#         return model_input.apply(lambda column: column + self.n)\n"
   ]
  },
  {
   "cell_type": "code",
   "execution_count": 47,
   "metadata": {},
   "outputs": [
    {
     "name": "stderr",
     "output_type": "stream",
     "text": [
      "INFO  [alembic.runtime.migration] Context impl SQLiteImpl.\n",
      "INFO  [alembic.runtime.migration] Will assume non-transactional DDL.\n",
      "<ipython-input-47-8a0e0c24fb40>:11: DeprecationWarning: .. Warning:: ``mlflow.pyfunc.load_pyfunc`` is deprecated since 1.0. This method will be removed in a near future release. Use ``mlflow.pyfunc.load_model`` instead.\n",
      "  loaded_model = mlflow.pyfunc.load_pyfunc(model_path)\n"
     ]
    },
    {
     "name": "stdout",
     "output_type": "stream",
     "text": [
      "96486_image_19.png\n",
      "96486_image_19.png\n"
     ]
    },
    {
     "name": "stderr",
     "output_type": "stream",
     "text": [
      "INFO  [alembic.runtime.migration] Context impl SQLiteImpl.\n",
      "INFO  [alembic.runtime.migration] Will assume non-transactional DDL.\n",
      "INFO  [alembic.runtime.migration] Context impl SQLiteImpl.\n",
      "INFO  [alembic.runtime.migration] Will assume non-transactional DDL.\n",
      "INFO  [alembic.runtime.migration] Context impl SQLiteImpl.\n",
      "INFO  [alembic.runtime.migration] Will assume non-transactional DDL.\n",
      "INFO  [alembic.runtime.migration] Context impl SQLiteImpl.\n",
      "INFO  [alembic.runtime.migration] Will assume non-transactional DDL.\n",
      "INFO  [alembic.runtime.migration] Context impl SQLiteImpl.\n",
      "INFO  [alembic.runtime.migration] Will assume non-transactional DDL.\n"
     ]
    }
   ],
   "source": [
    "with mlflow.start_run(run_name=\"ocrmodel\") as run:\n",
    "    \n",
    "    tic = time.time()\n",
    "    ocr_model = ocrmodel(lang='eng',psm=tesserocr.PSM.SINGLE_BLOCK)\n",
    "    duration_training = time.time() - tic\n",
    "#     run_id = run.info.run_uuid\n",
    "    experiment_id = run.info.experiment_id\n",
    "    tic = time.time()\n",
    "    model_path = \"ocr_model12\"\n",
    "    mlflow.pyfunc.save_model(path=model_path, python_model=ocr_model)\n",
    "    loaded_model = mlflow.pyfunc.load_pyfunc(model_path)\n",
    "    model_input= pd.DataFrame({\"path\":[\"96486_image_19.png\",\"96486_image_19.png\"]})\n",
    "    \n",
    "    model_output=loaded_model.predict(model_input)\n",
    "    \n",
    "#     ocrmodel.predict()\n",
    "    duration_prediction = time.time() - tic\n",
    "    mlflow.log_metric(\"Load Model Time\",duration_training)\n",
    "    mlflow.log_metric(\"OCR Time\", duration_prediction)\n",
    "    mlflow.log_param(\"Language\",'eng')\n",
    "    mlflow.log_param(\"psm\",tesserocr.PSM.SINGLE_BLOCK)\n",
    "#     mlflow.pyfunc.log_model(loaded_model, \"model\")\n",
    "    mlflow.end_run()\n",
    "    "
   ]
  },
  {
   "cell_type": "code",
   "execution_count": null,
   "metadata": {},
   "outputs": [],
   "source": []
  },
  {
   "cell_type": "code",
   "execution_count": 48,
   "metadata": {},
   "outputs": [
    {
     "data": {
      "text/plain": [
       "0    COLUMBIAASIA\\nColumbia Asia Hospital Seremban\\...\n",
       "1    COLUMBIAASIA\\nColumbia Asia Hospital Seremban\\...\n",
       "Name: path, dtype: object"
      ]
     },
     "execution_count": 48,
     "metadata": {},
     "output_type": "execute_result"
    }
   ],
   "source": [
    "model_output"
   ]
  },
  {
   "cell_type": "code",
   "execution_count": 43,
   "metadata": {},
   "outputs": [],
   "source": [
    " df = pd.DataFrame({\"path\":[1,2,2,3,4,5]})"
   ]
  },
  {
   "cell_type": "code",
   "execution_count": 44,
   "metadata": {},
   "outputs": [
    {
     "data": {
      "text/html": [
       "<div>\n",
       "<style scoped>\n",
       "    .dataframe tbody tr th:only-of-type {\n",
       "        vertical-align: middle;\n",
       "    }\n",
       "\n",
       "    .dataframe tbody tr th {\n",
       "        vertical-align: top;\n",
       "    }\n",
       "\n",
       "    .dataframe thead th {\n",
       "        text-align: right;\n",
       "    }\n",
       "</style>\n",
       "<table border=\"1\" class=\"dataframe\">\n",
       "  <thead>\n",
       "    <tr style=\"text-align: right;\">\n",
       "      <th></th>\n",
       "      <th>path</th>\n",
       "    </tr>\n",
       "  </thead>\n",
       "  <tbody>\n",
       "    <tr>\n",
       "      <th>0</th>\n",
       "      <td>1</td>\n",
       "    </tr>\n",
       "    <tr>\n",
       "      <th>1</th>\n",
       "      <td>2</td>\n",
       "    </tr>\n",
       "    <tr>\n",
       "      <th>2</th>\n",
       "      <td>2</td>\n",
       "    </tr>\n",
       "    <tr>\n",
       "      <th>3</th>\n",
       "      <td>3</td>\n",
       "    </tr>\n",
       "    <tr>\n",
       "      <th>4</th>\n",
       "      <td>4</td>\n",
       "    </tr>\n",
       "    <tr>\n",
       "      <th>5</th>\n",
       "      <td>5</td>\n",
       "    </tr>\n",
       "  </tbody>\n",
       "</table>\n",
       "</div>"
      ],
      "text/plain": [
       "   path\n",
       "0     1\n",
       "1     2\n",
       "2     2\n",
       "3     3\n",
       "4     4\n",
       "5     5"
      ]
     },
     "execution_count": 44,
     "metadata": {},
     "output_type": "execute_result"
    }
   ],
   "source": [
    "df"
   ]
  },
  {
   "cell_type": "code",
   "execution_count": 45,
   "metadata": {},
   "outputs": [
    {
     "name": "stderr",
     "output_type": "stream",
     "text": [
      "/usr/local/lib/python3.8/dist-packages/ipykernel/ipkernel.py:287: DeprecationWarning: `should_run_async` will not call `transform_cell` automatically in the future. Please pass the result to `transformed_cell` argument and any exception that happen during thetransform in `preprocessing_exc_tuple` in IPython 7.17 and above.\n",
      "  and should_run_async(code)\n"
     ]
    },
    {
     "data": {
      "text/plain": [
       "0    3\n",
       "1    4\n",
       "2    4\n",
       "3    5\n",
       "4    6\n",
       "5    7\n",
       "Name: path, dtype: int64"
      ]
     },
     "execution_count": 45,
     "metadata": {},
     "output_type": "execute_result"
    }
   ],
   "source": [
    "df['path'].apply(lambda column: column + 2)"
   ]
  },
  {
   "cell_type": "code",
   "execution_count": 1,
   "metadata": {},
   "outputs": [
    {
     "name": "stdout",
     "output_type": "stream",
     "text": [
      "3.0385541915893555\n"
     ]
    }
   ],
   "source": [
    "import tesserocr\n",
    "import time \n",
    "from tesserocr import PyTessBaseAPI\n",
    "images=[\"191003_112000_000-278585-4_300888_FB_FGL.PDF_9.png\",\"Packing List 110820pdf_1.png\",\"96486_image_19.png\"]\n",
    "api = PyTessBaseAPI(lang='eng', psm=tesserocr.PSM.SINGLE_BLOCK)\n",
    "t1= time.time()\n",
    "for path in images: \n",
    "    api.SetImageFile(path)\n",
    "    txt=api.GetUTF8Text()\n",
    "print(time.time()-t1)"
   ]
  },
  {
   "cell_type": "code",
   "execution_count": 3,
   "metadata": {},
   "outputs": [
    {
     "name": "stdout",
     "output_type": "stream",
     "text": [
      "3.2324917316436768\n"
     ]
    }
   ],
   "source": [
    "import tesserocr\n",
    "import time \n",
    "from tesserocr import PyTessBaseAPI\n",
    "images=[\"191003_112000_000-278585-4_300888_FB_FGL.PDF_9.png\",\"Packing List 110820pdf_1.png\",\"96486_image_19.png\"]\n",
    "t1= time.time()\n",
    "for path in images: \n",
    "    api = PyTessBaseAPI(lang='eng', psm=tesserocr.PSM.SINGLE_BLOCK)\n",
    "    api.SetImageFile(path)\n",
    "    txt=api.GetUTF8Text()\n",
    "print(time.time()-t1)"
   ]
  },
  {
   "cell_type": "code",
   "execution_count": 15,
   "metadata": {},
   "outputs": [
    {
     "name": "stdout",
     "output_type": "stream",
     "text": [
      "b'{\"error_code\": \"BAD_REQUEST\", \"message\": \"Encountered an unexpected error while evaluating the model. Verify that the serialized input Dataframe is compatible with the model for inference.\", \"stack_trace\": \"Traceback (most recent call last):\\\\n  File \\\\\"/home/ai-machine/.local/lib/python3.8/site-packages/mlflow/pyfunc/scoring_server/__init__.py\\\\\", line 213, in transformation\\\\n    raw_predictions = model.predict(data)\\\\n  File \\\\\"/home/ai-machine/.local/lib/python3.8/site-packages/mlflow/pyfunc/__init__.py\\\\\", line 425, in predict\\\\n    return self._model_impl.predict(data)\\\\n  File \\\\\"/home/ai-machine/.local/lib/python3.8/site-packages/mlflow/pyfunc/model.py\\\\\", line 254, in predict\\\\n    return self.python_model.predict(self.context, model_input)\\\\n  File \\\\\"/home/ai-machine/tesseractserving/mlflowtesseract.py\\\\\", line 35, in predict\\\\n    def start(image_path,lang):\\\\n  File \\\\\"/home/ai-machine/.local/lib/python3.8/site-packages/pandas/core/series.py\\\\\", line 3848, in apply\\\\n    mapped = lib.map_infer(values, f, convert=convert_dtype)\\\\n  File \\\\\"pandas/_libs/lib.pyx\\\\\", line 2327, in pandas._libs.lib.map_infer\\\\n  File \\\\\"/home/ai-machine/tesseractserving/mlflowtesseract.py\\\\\", line 35, in <lambda>\\\\n    def start(image_path,lang):\\\\n  File \\\\\"/home/ai-machine/tesseractserving/mlflowtesseract.py\\\\\", line 29, in ocr\\\\n  File \\\\\"tesserocr.pyx\\\\\", line 1597, in tesserocr.PyTessBaseAPI.SetImageFile\\\\nRuntimeError: Error reading image\\\\n\"}'\n"
     ]
    }
   ],
   "source": [
    "import requests\n",
    "\n",
    "url = \"http://localhost:5001/invocations\"\n",
    "payload= \"{\\\"columns\\\": [\\\"path\\\"], \\\"data\\\": [[\\\"test/20200221102506227_FMG_booking_confirmationpdf_1.png\\\"], [\\\"test/20200221102506227_FMG_booking_confirmationpdf_2.png\\\"]]}\"\n",
    "# '{\"columns\": [\"path\"],\"data\": [[\\'test/20200221102506227_FMG_booking_confirmationpdf_1.png\\'], [\\'test/20200221102506227_FMG_booking_confirmationpdf_2.png\\']]}'\n",
    "# payload = \"{\\n    \\\"columns\\\": [\\n        \\\"path\\\"\\n    ],\\n    \\\"data\\\": [\\n[\\n\\\"/home/ai-machine/ICE-Ai/Data/maryam/CNN_ICEAI/cnn/test_data/177323_image_0.png\\\"]]\\n}\"\n",
    "headers = {\n",
    "  'Content-type': 'application/json; format=pandas-split'\n",
    "}\n",
    "\n",
    "response = requests.request(\"POST\", url, headers=headers, data = payload)\n",
    "\n",
    "print(response.text.encode('utf8'))\n"
   ]
  },
  {
   "cell_type": "code",
   "execution_count": null,
   "metadata": {},
   "outputs": [],
   "source": []
  },
  {
   "cell_type": "code",
   "execution_count": null,
   "metadata": {},
   "outputs": [],
   "source": []
  }
 ],
 "metadata": {
  "kernelspec": {
   "display_name": "Python 3",
   "language": "python",
   "name": "python3"
  },
  "language_info": {
   "codemirror_mode": {
    "name": "ipython",
    "version": 3
   },
   "file_extension": ".py",
   "mimetype": "text/x-python",
   "name": "python",
   "nbconvert_exporter": "python",
   "pygments_lexer": "ipython3",
   "version": "3.8.2"
  }
 },
 "nbformat": 4,
 "nbformat_minor": 4
}
